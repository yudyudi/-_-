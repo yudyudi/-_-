{
 "cells": [
  {
   "cell_type": "code",
   "execution_count": 396,
   "metadata": {},
   "outputs": [],
   "source": [
    "from bs4 import BeautifulSoup\n",
    "import time\n",
    "from selenium import webdriver\n",
    "from selenium.webdriver.common.keys import Keys\n",
    "from selenium.webdriver.common.by import By\n",
    "import pandas as pd\n",
    "import re\n",
    "import datetime\n",
    "import requests"
   ]
  },
  {
   "cell_type": "markdown",
   "metadata": {},
   "source": [
    "# Scraping Youtube"
   ]
  },
  {
   "cell_type": "code",
   "execution_count": 361,
   "metadata": {},
   "outputs": [],
   "source": [
    "#스크래핑하는 함수\n",
    "def crawling(query):\n",
    "    driver = webdriver.Chrome()\n",
    "    delay = 3\n",
    "    driver.implicitly_wait(delay)\n",
    "\n",
    "    url = 'https://www.youtube.com/results?search_query=' + query\n",
    "\n",
    "    driver.get(url)\n",
    "    driver.maximize_window()\n",
    "\n",
    "    body = driver.find_element_by_tag_name('body')\n",
    "\n",
    "    num_of_pagedowns = 20\n",
    "    while num_of_pagedowns:\n",
    "        body.send_keys(Keys.PAGE_DOWN)\n",
    "        time.sleep(1)\n",
    "        num_of_pagedowns -= 1\n",
    "\n",
    "    html = driver.page_source\n",
    "    soup = BeautifulSoup(html, 'lxml')\n",
    "\n",
    "    contents = soup.find_all('div','style-scope ytd-video-renderer')\n",
    "\n",
    "    driver.close()\n",
    "    \n",
    "    return contents"
   ]
  },
  {
   "cell_type": "code",
   "execution_count": 464,
   "metadata": {},
   "outputs": [],
   "source": [
    "#df에 insert하기 위한 list(row)를 반환하는 함수 \n",
    "def insert_data(contents,query):\n",
    "    for div in contents:\n",
    "        try:\n",
    "            #video_info table\n",
    "            search_query = query\n",
    "            title = div.find('yt-formatted-string','style-scope ytd-video-renderer').text\n",
    "            contents = div.find('yt-formatted-string','metadata-snippet-text-navigation style-scope ytd-video-renderer').text\n",
    "            video_meta = div.find_all('span','style-scope ytd-video-meta-block')\n",
    "            view = video_meta[0].text\n",
    "            create_date = video_meta[1].text\n",
    "            video_url = div.find('a',\"yt-simple-endpoint style-scope ytd-video-renderer\")['href']\n",
    "            \n",
    "            #youtuber table\n",
    "            youtuber_name = div.find('a','yt-simple-endpoint style-scope yt-formatted-string').text\n",
    "            subscribers = ''\n",
    "            channel_url = div.find('a','yt-simple-endpoint style-scope yt-formatted-string')['href']\n",
    "            \n",
    "            url = 'https://www.youtube.com'\n",
    "            video.append([title, view, contents, create_date, search_query, url + video_url,youtuber_name])\n",
    "            youtuber.append([youtuber_name,subscribers,url + channel_url])\n",
    "\n",
    "        except:\n",
    "            pass\n",
    "        \n",
    "    return video, youtuber"
   ]
  },
  {
   "cell_type": "code",
   "execution_count": 431,
   "metadata": {},
   "outputs": [],
   "source": [
    "#구독자수 스크래핑하는 함수\n",
    "def crawl_subscriber(url):\n",
    "    headers = {\n",
    "        'Access-Control-Allow-Origin': '*',\n",
    "        'Access-Control-Allow-Methods': 'GET',\n",
    "        'Access-Control-Allow-Headers': 'Content-Type',\n",
    "        'Access-Control-Max-Age': '3600',\n",
    "        'User-Agent': 'Mozilla/5.0 (X11; Ubuntu; Linux x86_64; rv:52.0) Gecko/20100101 Firefox/52.0'\n",
    "        }\n",
    "\n",
    "    html = requests.get(url, headers=headers).text\n",
    "\n",
    "    return re.findall(\"구독자(.+?)명\", html)[-1]"
   ]
  },
  {
   "cell_type": "markdown",
   "metadata": {},
   "source": [
    "# DF 정의 & Insert row"
   ]
  },
  {
   "cell_type": "code",
   "execution_count": 465,
   "metadata": {},
   "outputs": [],
   "source": [
    "#youtubre_df, video_info_df 정의\n",
    "\n",
    "youtube_columns = ['youtuber_name','subscribers','channel_url']\n",
    "video_columns = ['title','view','contents','create_date','search_query','video_url','youtuber_name']\n",
    "\n",
    "youtuber_df = pd.DataFrame(columns = youtube_columns)\n",
    "video_info_df = pd.DataFrame(columns = video_columns)"
   ]
  },
  {
   "cell_type": "code",
   "execution_count": 466,
   "metadata": {
    "scrolled": false
   },
   "outputs": [
    {
     "name": "stdout",
     "output_type": "stream",
     "text": [
      "done! query 갤럭시 80 80\n",
      "done! query 갤럭시z플립 4 156 156\n",
      "done! query 갤럭시폴드4 220 220\n",
      "done! query 아이폰 279 279\n",
      "done! query 아이폰14 359 359\n",
      "done! query iphone 14 436 436\n",
      "done! query iphone 14 pro 463 463\n"
     ]
    }
   ],
   "source": [
    "#다음의 검색어를 이용해서 스크래핑을 진행한다. \n",
    "query_list = ['갤럭시', '갤럭시z플립 4', '갤럭시폴드4','아이폰', '아이폰14', 'iphone 14', 'iphone 14 pro']\n",
    "\n",
    "#row 저장하는 리스트\n",
    "video, youtuber = [],[]\n",
    "\n",
    "for query in query_list:\n",
    "    data = crawling(query)\n",
    "    video, youtuber = insert_data(data,query)\n",
    "    print('done! query',query,len(video),len(youtuber))"
   ]
  },
  {
   "cell_type": "code",
   "execution_count": 467,
   "metadata": {},
   "outputs": [],
   "source": [
    "#youtuber_df에 row 삽입\n",
    "for row in youtuber:\n",
    "    youtuber_df = youtuber_df.append(pd.Series(row,index = youtuber_df.columns),ignore_index = True)\n",
    "\n",
    "#video_info_df에 row 삽입\n",
    "for row in video:\n",
    "    video_info_df = video_info_df.append(pd.Series(row,index = video_info_df.columns),ignore_index = True)"
   ]
  },
  {
   "cell_type": "code",
   "execution_count": 468,
   "metadata": {},
   "outputs": [
    {
     "name": "stdout",
     "output_type": "stream",
     "text": [
      "463\n",
      "463\n"
     ]
    }
   ],
   "source": [
    "print(len(youtuber_df))\n",
    "print(len(video_info_df))"
   ]
  },
  {
   "cell_type": "code",
   "execution_count": 469,
   "metadata": {},
   "outputs": [],
   "source": [
    "#출력하기\n",
    "youtuber_df.to_csv(\"[raw]youtuber_table.csv\")\n",
    "video_info_df.to_csv(\"[raw]video_info_table.csv\")"
   ]
  },
  {
   "cell_type": "markdown",
   "metadata": {},
   "source": [
    "## 전처리하기"
   ]
  },
  {
   "cell_type": "code",
   "execution_count": 470,
   "metadata": {},
   "outputs": [
    {
     "data": {
      "text/html": [
       "<div>\n",
       "<style scoped>\n",
       "    .dataframe tbody tr th:only-of-type {\n",
       "        vertical-align: middle;\n",
       "    }\n",
       "\n",
       "    .dataframe tbody tr th {\n",
       "        vertical-align: top;\n",
       "    }\n",
       "\n",
       "    .dataframe thead th {\n",
       "        text-align: right;\n",
       "    }\n",
       "</style>\n",
       "<table border=\"1\" class=\"dataframe\">\n",
       "  <thead>\n",
       "    <tr style=\"text-align: right;\">\n",
       "      <th></th>\n",
       "      <th>youtuber_name</th>\n",
       "      <th>subscribers</th>\n",
       "      <th>channel_url</th>\n",
       "    </tr>\n",
       "  </thead>\n",
       "  <tbody>\n",
       "    <tr>\n",
       "      <th>0</th>\n",
       "      <td>ITSub잇섭</td>\n",
       "      <td></td>\n",
       "      <td>https://www.youtube.com/c/ITSUB%EC%9E%87%EC%84%AD</td>\n",
       "    </tr>\n",
       "    <tr>\n",
       "      <th>1</th>\n",
       "      <td>주연 ZUYONI</td>\n",
       "      <td></td>\n",
       "      <td>https://www.youtube.com/channel/UCB11SAf7WSN4G...</td>\n",
       "    </tr>\n",
       "    <tr>\n",
       "      <th>2</th>\n",
       "      <td>ITSub잇섭</td>\n",
       "      <td></td>\n",
       "      <td>https://www.youtube.com/c/ITSUB%EC%9E%87%EC%84%AD</td>\n",
       "    </tr>\n",
       "    <tr>\n",
       "      <th>3</th>\n",
       "      <td>인태크 INTAECH</td>\n",
       "      <td></td>\n",
       "      <td>https://www.youtube.com/channel/UCr6deoUPd2sh7...</td>\n",
       "    </tr>\n",
       "    <tr>\n",
       "      <th>4</th>\n",
       "      <td>고나고</td>\n",
       "      <td></td>\n",
       "      <td>https://www.youtube.com/user/gonachoi</td>\n",
       "    </tr>\n",
       "  </tbody>\n",
       "</table>\n",
       "</div>"
      ],
      "text/plain": [
       "  youtuber_name subscribers                                        channel_url\n",
       "0       ITSub잇섭              https://www.youtube.com/c/ITSUB%EC%9E%87%EC%84%AD\n",
       "1     주연 ZUYONI              https://www.youtube.com/channel/UCB11SAf7WSN4G...\n",
       "2       ITSub잇섭              https://www.youtube.com/c/ITSUB%EC%9E%87%EC%84%AD\n",
       "3   인태크 INTAECH              https://www.youtube.com/channel/UCr6deoUPd2sh7...\n",
       "4           고나고                          https://www.youtube.com/user/gonachoi"
      ]
     },
     "execution_count": 470,
     "metadata": {},
     "output_type": "execute_result"
    }
   ],
   "source": [
    "youtuber_df.head()"
   ]
  },
  {
   "cell_type": "code",
   "execution_count": 471,
   "metadata": {},
   "outputs": [
    {
     "data": {
      "text/html": [
       "<div>\n",
       "<style scoped>\n",
       "    .dataframe tbody tr th:only-of-type {\n",
       "        vertical-align: middle;\n",
       "    }\n",
       "\n",
       "    .dataframe tbody tr th {\n",
       "        vertical-align: top;\n",
       "    }\n",
       "\n",
       "    .dataframe thead th {\n",
       "        text-align: right;\n",
       "    }\n",
       "</style>\n",
       "<table border=\"1\" class=\"dataframe\">\n",
       "  <thead>\n",
       "    <tr style=\"text-align: right;\">\n",
       "      <th></th>\n",
       "      <th>title</th>\n",
       "      <th>view</th>\n",
       "      <th>contents</th>\n",
       "      <th>create_date</th>\n",
       "      <th>search_query</th>\n",
       "      <th>video_url</th>\n",
       "      <th>youtuber_name</th>\n",
       "    </tr>\n",
       "  </thead>\n",
       "  <tbody>\n",
       "    <tr>\n",
       "      <th>0</th>\n",
       "      <td>갤럭시 Z 플립4 언빡싱&amp;달라진점 7가지! 플립3의 가장 큰 단점을 개선했다?</td>\n",
       "      <td>조회수 98만회</td>\n",
       "      <td>갬성의 삼성이라고 불렸던 플립3의 후속작인 플립4가 공개되었습니다. 이번에는 파격적...</td>\n",
       "      <td>1일 전</td>\n",
       "      <td>갤럭시</td>\n",
       "      <td>https://www.youtube.com/watch?v=WwGzNicmPHk</td>\n",
       "      <td>ITSub잇섭</td>\n",
       "    </tr>\n",
       "    <tr>\n",
       "      <th>1</th>\n",
       "      <td>미쳤다...너무 예쁜 플립4 산타마리아노벨라 언박싱 &amp; 플립3와 달라진 점 총정리!...</td>\n",
       "      <td>조회수 14만회</td>\n",
       "      <td>인스타그램: https://www.instagram.com/zuyoni/ 오늘 언박...</td>\n",
       "      <td>5시간 전</td>\n",
       "      <td>갤럭시</td>\n",
       "      <td>https://www.youtube.com/watch?v=oi9qEieDaT8</td>\n",
       "      <td>주연 ZUYONI</td>\n",
       "    </tr>\n",
       "    <tr>\n",
       "      <th>2</th>\n",
       "      <td>1️⃣갤럭시 Z 플립4 &amp; 폴드4 첫 인상! 궁금한게 많아서 개발자분께 모두 물어봤...</td>\n",
       "      <td>조회수 167만회</td>\n",
       "      <td>기다리고 기다렸던 삼성전자의 하반기 전략 플래그십 스마트폰. 갤럭시 Z 플립4와 폴...</td>\n",
       "      <td>6일 전</td>\n",
       "      <td>갤럭시</td>\n",
       "      <td>https://www.youtube.com/watch?v=H-wxJxEkmm4</td>\n",
       "      <td>ITSub잇섭</td>\n",
       "    </tr>\n",
       "    <tr>\n",
       "      <th>3</th>\n",
       "      <td>갤럭시워치5 프로 언박싱</td>\n",
       "      <td>조회수 722회</td>\n",
       "      <td>갤럭시워치5 프로 언박싱 영상 입니다. 디테일샷 및 사은품 소개가 포함되어 있습니다...</td>\n",
       "      <td>2시간 전</td>\n",
       "      <td>갤럭시</td>\n",
       "      <td>https://www.youtube.com/watch?v=NDWZ8x73ZjE</td>\n",
       "      <td>인태크 INTAECH</td>\n",
       "    </tr>\n",
       "    <tr>\n",
       "      <th>4</th>\n",
       "      <td>갤럭시 Z 폴드4, 이게 갖고 다닐 만큼 유용할까?</td>\n",
       "      <td>조회수 1.9만회</td>\n",
       "      <td>갤럭시 Z 폴드4 사전 예약하신 분 있나여!? 변화가 있는 듯 없는 듯 하지만, 힌...</td>\n",
       "      <td>5시간 전</td>\n",
       "      <td>갤럭시</td>\n",
       "      <td>https://www.youtube.com/watch?v=S7QFWqMnmmI</td>\n",
       "      <td>고나고</td>\n",
       "    </tr>\n",
       "  </tbody>\n",
       "</table>\n",
       "</div>"
      ],
      "text/plain": [
       "                                               title       view  \\\n",
       "0        갤럭시 Z 플립4 언빡싱&달라진점 7가지! 플립3의 가장 큰 단점을 개선했다?   조회수 98만회   \n",
       "1  미쳤다...너무 예쁜 플립4 산타마리아노벨라 언박싱 & 플립3와 달라진 점 총정리!...   조회수 14만회   \n",
       "2  1️⃣갤럭시 Z 플립4 & 폴드4 첫 인상! 궁금한게 많아서 개발자분께 모두 물어봤...  조회수 167만회   \n",
       "3                                      갤럭시워치5 프로 언박싱   조회수 722회   \n",
       "4                       갤럭시 Z 폴드4, 이게 갖고 다닐 만큼 유용할까?  조회수 1.9만회   \n",
       "\n",
       "                                            contents create_date search_query  \\\n",
       "0  갬성의 삼성이라고 불렸던 플립3의 후속작인 플립4가 공개되었습니다. 이번에는 파격적...        1일 전          갤럭시   \n",
       "1  인스타그램: https://www.instagram.com/zuyoni/ 오늘 언박...       5시간 전          갤럭시   \n",
       "2  기다리고 기다렸던 삼성전자의 하반기 전략 플래그십 스마트폰. 갤럭시 Z 플립4와 폴...        6일 전          갤럭시   \n",
       "3  갤럭시워치5 프로 언박싱 영상 입니다. 디테일샷 및 사은품 소개가 포함되어 있습니다...       2시간 전          갤럭시   \n",
       "4  갤럭시 Z 폴드4 사전 예약하신 분 있나여!? 변화가 있는 듯 없는 듯 하지만, 힌...       5시간 전          갤럭시   \n",
       "\n",
       "                                     video_url youtuber_name  \n",
       "0  https://www.youtube.com/watch?v=WwGzNicmPHk       ITSub잇섭  \n",
       "1  https://www.youtube.com/watch?v=oi9qEieDaT8     주연 ZUYONI  \n",
       "2  https://www.youtube.com/watch?v=H-wxJxEkmm4       ITSub잇섭  \n",
       "3  https://www.youtube.com/watch?v=NDWZ8x73ZjE   인태크 INTAECH  \n",
       "4  https://www.youtube.com/watch?v=S7QFWqMnmmI           고나고  "
      ]
     },
     "execution_count": 471,
     "metadata": {},
     "output_type": "execute_result"
    }
   ],
   "source": [
    "video_info_df.head()"
   ]
  },
  {
   "cell_type": "code",
   "execution_count": 472,
   "metadata": {},
   "outputs": [],
   "source": [
    "#view column 전처리하는 함수\n",
    "def custom_view(x):\n",
    "    try:\n",
    "        if '만회' in x:\n",
    "            m = 10000\n",
    "        elif '천회' in x:\n",
    "            m = 1000\n",
    "        else:\n",
    "            m = 1\n",
    "\n",
    "        if '.' in x:\n",
    "            f = re.findall(\"\\d+.\\d+\", str(x))\n",
    "            return int(float(f[0]) * m)\n",
    "\n",
    "        if '.' not in x:        \n",
    "            f = re.sub(r'[^0-9]', '', str(x))\n",
    "            return int(f) * m\n",
    "    \n",
    "    except:\n",
    "        return 0 \n",
    "\n",
    "#date column 전처리하는 함수\n",
    "def custom_date(x,current):\n",
    "    num = int(re.sub(r'[^0-9]', '', str(x)))\n",
    "    try:\n",
    "        if '년 전' in x:\n",
    "            date = current - datetime.timedelta(days=num*365)\n",
    "\n",
    "        elif '개월 전' in x:\n",
    "            date = current - datetime.timedelta(days=num*30)\n",
    "\n",
    "        elif '주 전' in x:\n",
    "            date = current - datetime.timedelta(days=num*7)\n",
    "\n",
    "        elif '일 전' in x:\n",
    "            date = current - datetime.timedelta(days=num)\n",
    "\n",
    "        else:\n",
    "            date = current\n",
    "    except:\n",
    "        date = current\n",
    "    \n",
    "    return date.strftime(\"%Y-%m-%d\")"
   ]
  },
  {
   "cell_type": "code",
   "execution_count": 439,
   "metadata": {},
   "outputs": [],
   "source": [
    "#구독자 수 전처리하는 함수\n",
    "def custom_sub(x):\n",
    "    if len(x) > 20:\n",
    "        return 0 \n",
    "        \n",
    "    try:\n",
    "        if '만' in x:\n",
    "            m = 10000\n",
    "        elif '천' in x:\n",
    "            m = 1000\n",
    "        else:\n",
    "            m = 1\n",
    "\n",
    "        if '.' in x:\n",
    "            f = re.findall(\"\\d+.\\d+\", str(x))\n",
    "            return int(float(f[0]) * m)\n",
    "\n",
    "        if '.' not in x:        \n",
    "            f = re.sub(r'[^0-9]', '', str(x))\n",
    "            return int(f) * m\n",
    "    \n",
    "    except:\n",
    "        return 0 "
   ]
  },
  {
   "cell_type": "code",
   "execution_count": 473,
   "metadata": {},
   "outputs": [],
   "source": [
    "#view column 전처리\n",
    "video_info_df['view'] = video_info_df['view'].apply(lambda x : custom_view(x))\n",
    "\n",
    "#create_date 전처리\n",
    "current =  datetime.datetime.now()\n",
    "video_info_df['create_date'] = video_info_df['create_date'].apply(lambda x: custom_date(x,current))"
   ]
  },
  {
   "cell_type": "code",
   "execution_count": 387,
   "metadata": {},
   "outputs": [
    {
     "data": {
      "text/html": [
       "<div>\n",
       "<style scoped>\n",
       "    .dataframe tbody tr th:only-of-type {\n",
       "        vertical-align: middle;\n",
       "    }\n",
       "\n",
       "    .dataframe tbody tr th {\n",
       "        vertical-align: top;\n",
       "    }\n",
       "\n",
       "    .dataframe thead th {\n",
       "        text-align: right;\n",
       "    }\n",
       "</style>\n",
       "<table border=\"1\" class=\"dataframe\">\n",
       "  <thead>\n",
       "    <tr style=\"text-align: right;\">\n",
       "      <th></th>\n",
       "      <th>title</th>\n",
       "      <th>view</th>\n",
       "      <th>contents</th>\n",
       "      <th>create_date</th>\n",
       "      <th>search_query</th>\n",
       "      <th>video_url</th>\n",
       "    </tr>\n",
       "  </thead>\n",
       "  <tbody>\n",
       "    <tr>\n",
       "      <th>0</th>\n",
       "      <td>갤럭시 Z 플립4 언빡싱&amp;달라진점 7가지! 플립3의 가장 큰 단점을 개선했다?</td>\n",
       "      <td>970000</td>\n",
       "      <td>갬성의 삼성이라고 불렸던 플립3의 후속작인 플립4가 공개되었습니다. 이번에는 파격적...</td>\n",
       "      <td>2022-08-17</td>\n",
       "      <td>갤럭시</td>\n",
       "      <td>https://www.youtube.com/watch?v=WwGzNicmPHk</td>\n",
       "    </tr>\n",
       "    <tr>\n",
       "      <th>1</th>\n",
       "      <td>1️⃣갤럭시 Z 플립4 &amp; 폴드4 첫 인상! 궁금한게 많아서 개발자분께 모두 물어봤...</td>\n",
       "      <td>1670000</td>\n",
       "      <td>기다리고 기다렸던 삼성전자의 하반기 전략 플래그십 스마트폰. 갤럭시 Z 플립4와 폴...</td>\n",
       "      <td>2022-08-17</td>\n",
       "      <td>갤럭시</td>\n",
       "      <td>https://www.youtube.com/watch?v=H-wxJxEkmm4</td>\n",
       "    </tr>\n",
       "    <tr>\n",
       "      <th>2</th>\n",
       "      <td>미쳤다...너무 예쁜 플립4 산타마리아노벨라 언박싱 &amp; 플립3와 달라진 점 총정리!...</td>\n",
       "      <td>90000</td>\n",
       "      <td>인스타그램: https://www.instagram.com/zuyoni/ 오늘 언박...</td>\n",
       "      <td>2022-08-17</td>\n",
       "      <td>갤럭시</td>\n",
       "      <td>https://www.youtube.com/watch?v=oi9qEieDaT8</td>\n",
       "    </tr>\n",
       "    <tr>\n",
       "      <th>3</th>\n",
       "      <td>갤럭시 Z 폴드4, 이게 갖고 다닐 만큼 유용할까?</td>\n",
       "      <td>13000</td>\n",
       "      <td>갤럭시 Z 폴드4 사전 예약하신 분 있나여!? 변화가 있는 듯 없는 듯 하지만, 힌...</td>\n",
       "      <td>2022-08-17</td>\n",
       "      <td>갤럭시</td>\n",
       "      <td>https://www.youtube.com/watch?v=S7QFWqMnmmI</td>\n",
       "    </tr>\n",
       "    <tr>\n",
       "      <th>4</th>\n",
       "      <td>갤럭시워치5 프로 언박싱</td>\n",
       "      <td>415</td>\n",
       "      <td>갤럭시워치5 프로 언박싱 영상 입니다. 디테일샷 및 사은품 소개가 포함되어 있습니다...</td>\n",
       "      <td>2022-08-17</td>\n",
       "      <td>갤럭시</td>\n",
       "      <td>https://www.youtube.com/watch?v=NDWZ8x73ZjE</td>\n",
       "    </tr>\n",
       "  </tbody>\n",
       "</table>\n",
       "</div>"
      ],
      "text/plain": [
       "                                               title     view  \\\n",
       "0        갤럭시 Z 플립4 언빡싱&달라진점 7가지! 플립3의 가장 큰 단점을 개선했다?   970000   \n",
       "1  1️⃣갤럭시 Z 플립4 & 폴드4 첫 인상! 궁금한게 많아서 개발자분께 모두 물어봤...  1670000   \n",
       "2  미쳤다...너무 예쁜 플립4 산타마리아노벨라 언박싱 & 플립3와 달라진 점 총정리!...    90000   \n",
       "3                       갤럭시 Z 폴드4, 이게 갖고 다닐 만큼 유용할까?    13000   \n",
       "4                                      갤럭시워치5 프로 언박싱      415   \n",
       "\n",
       "                                            contents create_date search_query  \\\n",
       "0  갬성의 삼성이라고 불렸던 플립3의 후속작인 플립4가 공개되었습니다. 이번에는 파격적...  2022-08-17          갤럭시   \n",
       "1  기다리고 기다렸던 삼성전자의 하반기 전략 플래그십 스마트폰. 갤럭시 Z 플립4와 폴...  2022-08-17          갤럭시   \n",
       "2  인스타그램: https://www.instagram.com/zuyoni/ 오늘 언박...  2022-08-17          갤럭시   \n",
       "3  갤럭시 Z 폴드4 사전 예약하신 분 있나여!? 변화가 있는 듯 없는 듯 하지만, 힌...  2022-08-17          갤럭시   \n",
       "4  갤럭시워치5 프로 언박싱 영상 입니다. 디테일샷 및 사은품 소개가 포함되어 있습니다...  2022-08-17          갤럭시   \n",
       "\n",
       "                                     video_url  \n",
       "0  https://www.youtube.com/watch?v=WwGzNicmPHk  \n",
       "1  https://www.youtube.com/watch?v=H-wxJxEkmm4  \n",
       "2  https://www.youtube.com/watch?v=oi9qEieDaT8  \n",
       "3  https://www.youtube.com/watch?v=S7QFWqMnmmI  \n",
       "4  https://www.youtube.com/watch?v=NDWZ8x73ZjE  "
      ]
     },
     "execution_count": 387,
     "metadata": {},
     "output_type": "execute_result"
    }
   ],
   "source": [
    "video_info_df.head()"
   ]
  },
  {
   "cell_type": "code",
   "execution_count": 474,
   "metadata": {},
   "outputs": [
    {
     "name": "stdout",
     "output_type": "stream",
     "text": [
      "463\n"
     ]
    }
   ],
   "source": [
    "print(len(youtuber_df))"
   ]
  },
  {
   "cell_type": "code",
   "execution_count": 475,
   "metadata": {},
   "outputs": [],
   "source": [
    "#youtuber_df에서 중복된 행을 제거한다.\n",
    "youtuber_df=youtuber_df.drop_duplicates(keep='first')"
   ]
  },
  {
   "cell_type": "code",
   "execution_count": 394,
   "metadata": {},
   "outputs": [
    {
     "name": "stdout",
     "output_type": "stream",
     "text": [
      "185\n"
     ]
    }
   ],
   "source": [
    "#463 -> 185개로 줄어듦\n",
    "print(len(youtuber_df))"
   ]
  },
  {
   "cell_type": "markdown",
   "metadata": {},
   "source": [
    "## scraping subscribers using channel_url "
   ]
  },
  {
   "cell_type": "code",
   "execution_count": 476,
   "metadata": {},
   "outputs": [
    {
     "name": "stdout",
     "output_type": "stream",
     "text": [
      "https://www.youtube.com/c/ITSUB%EC%9E%87%EC%84%AD  219만\n",
      "https://www.youtube.com/channel/UCB11SAf7WSN4GrCquKoOHrw  59만\n",
      "https://www.youtube.com/channel/UCr6deoUPd2sh7mafAk5xWDQ  3.41천\n",
      "https://www.youtube.com/user/gonachoi  13.1만\n",
      "https://www.youtube.com/c/SamsungKorea  44.1만\n",
      "https://www.youtube.com/channel/UC2mFPcCVDdQLL6WyQ0pqRaA  2\n",
      "https://www.youtube.com/c/Samsung  622만\n",
      "https://www.youtube.com/c/%EC%82%AC%EC%95%BC%EB%90%98%EB%82%98Ten  8.8천\n",
      "https://www.youtube.com/c/TheSINZA  10.6만\n",
      "https://www.youtube.com/c/jerrylreny  6.45만\n",
      "https://www.youtube.com/c/%EC%97%90%EC%8A%A4%EC%98%A4%EB%94%94STORY  58.7만\n",
      "https://www.youtube.com/c/binigoon79  4.73만\n",
      "https://www.youtube.com/c/tablet79  3.44천\n",
      "https://www.youtube.com/channel/UCsqJJPqihIU25fCNiwR5Thg  6.11만\n",
      "https://www.youtube.com/c/%EA%B3%A0%EB%8B%88TV-GONITV  5.91만\n",
      "https://www.youtube.com/channel/UCJKZoVf3RIMfFffjdseqdEg  38.7만\n",
      "https://www.youtube.com/channel/UCFX6adXoyQKxft933NB3rmA  60.3만\n",
      "https://www.youtube.com/c/%EC%9D%B8%EC%8A%A4%ED%8E%99%ED%8C%85%EB%A3%B8InspectingRoom  10.4만\n",
      "https://www.youtube.com/c/Underkg  66.9만\n",
      "https://www.youtube.com/user/virgin0909  4.18만\n",
      "https://www.youtube.com/c/%EC%84%9C%EC%9A%B8%EB%A6%AC%EC%95%88  22.2만\n",
      "https://www.youtube.com/channel/UCOlQ58g_SqQrJi8R-ixxdiA  7.66만\n",
      "https://www.youtube.com/channel/UCry2Dh0MV3xhFbT4Y2A--kA  1.09천\n",
      "https://www.youtube.com/c/%EC%98%A4%EB%8A%98%EB%8F%84%EB%9D%BC%EC%9D%B4%EC%96%B8  2.51만\n",
      "https://www.youtube.com/c/%EC%8A%88%ED%8D%BC%EB%A1%9C%EB%8D%94SuperRoader  1.78만\n",
      "https://www.youtube.com/c/%EC%8A%A4%ED%8A%9C%EB%94%94%EC%98%A4%EB%AA%A8%EB%AA%A8  6.5천\n",
      "https://www.youtube.com/c/MR%EC%97%A0%EC%95%8C  56.7만\n",
      "https://www.youtube.com/c/%EB%AA%B9%ED%8B%B0%EB%B9%84MobileTV%EB%AA%B9%ED%94%BC%EB%94%94  1.12만\n",
      "https://www.youtube.com/c/%ED%83%90%EC%8A%A4TV  5.79천\n",
      "https://www.youtube.com/c/0dBdb  4.83만\n",
      "https://www.youtube.com/c/BNOTE%EB%B9%84%EB%85%B8%ED%8A%B8causeIam  11.8만\n",
      "https://www.youtube.com/c/%EB%84%A4%EB%AA%A8%EB%82%9C%EA%BF%88  8.18천\n",
      "https://www.youtube.com/c/SMCCStudio  112만\n",
      "https://www.youtube.com/channel/UCIVJRXlM6pJQuv42na2x7-w  1.19천\n",
      "https://www.youtube.com/channel/UCsE6934Fu-aiJ6uMZXOKqHw  9.09천\n",
      "https://www.youtube.com/c/ebskids  332만\n",
      "https://www.youtube.com/c/%EC%BB%A4%ED%94%BC%EC%83%88  12.3만\n",
      "https://www.youtube.com/channel/UCvFhJjq2S7onUjiVmM4c5Bw  2.84만\n",
      "https://www.youtube.com/c/%EC%9D%B8%EC%8B%B8IT  1.71만\n",
      "https://www.youtube.com/channel/UCoSDm6n22lp_0KbaAPubWSw  6.06만\n",
      "https://www.youtube.com/c/%EC%9A%A9%ED%8C%94%EC%9D%B4%ED%9B%88%EB%A0%A8%EC%86%8C  3.22만\n",
      "https://www.youtube.com/c/ITsokay%EC%9E%87%EC%B8%A0%EC%98%A4%EC%BC%80%EC%9D%B4  15.6만\n",
      "https://www.youtube.com/channel/UCu38CqTttqEQFwVccmFPlyQ  52.7만\n",
      "https://www.youtube.com/c/14FMBC  152만\n",
      "https://www.youtube.com/c/ytnnews24  344만\n",
      "https://www.youtube.com/user/JTBC10news  241만\n",
      "https://www.youtube.com/channel/UCVljIlKsCuGo55nqksB67DQ  3.48만\n",
      "https://www.youtube.com/c/%EC%95%84%EC%A0%80%EC%94%A8%EC%8A%A4%ED%83%80  5.36만\n",
      "https://www.youtube.com/c/leaderyou1  6.59만\n",
      "https://www.youtube.com/c/%EC%95%84%EC%9D%B4%EA%B0%80AIGA  1.09만\n",
      "https://www.youtube.com/channel/UC7llaqAABN-nQ0cANlB94rA  4.66만\n",
      "https://www.youtube.com/c/2%EB%8B%AC%EB%9F%AC  2.58만\n",
      "https://www.youtube.com/c/%EC%97%90%EC%9D%B4%ED%8A%B8ATE  17.3만\n",
      "https://www.youtube.com/channel/UCM6XWqEM7mIfEtYVDYE6VTQ  268\n",
      "https://www.youtube.com/c/SKtelecom  111만\n",
      "https://www.youtube.com/channel/UCdYUzZBpHN9pPTcePFJlVlg  1.09천\n",
      "https://www.youtube.com/channel/UCQVLCNu1nju-qwWHkh2X0kQ  1.3천\n",
      "https://www.youtube.com/c/%EC%98%AC%EB%8C%93%ED%8F%B0  1.53천\n",
      "https://www.youtube.com/channel/UCSvOg4rSu395lPz6uMqBekw  7.31천\n",
      "https://www.youtube.com/c/ParanManjang  4.65만\n",
      "https://www.youtube.com/c/heopopfamily  401만\n",
      "https://www.youtube.com/user/yeols102  10.7만\n",
      "https://www.youtube.com/c/ddangfilm  20.2만\n",
      "https://www.youtube.com/channel/UCsatrBPum5ied5Qpo3onWuw  3.69천\n",
      "https://www.youtube.com/c/TechdroiderOfficial  49.1만\n",
      "https://www.youtube.com/c/TongTongTv%ED%86%B5%ED%86%B5%ED%85%8C%ED%81%AC  9.19만\n",
      "https://www.youtube.com/channel/UC1JuasrqdCZ63YhKhxZ0J3w  7.61만\n",
      "https://www.youtube.com/channel/UCPDdt9Iv4cXPEQmyVU_96sw  29.9만\n",
      "https://www.youtube.com/c/lguplus  68.7만\n",
      "https://www.youtube.com/sbs8news  282만\n",
      "https://www.youtube.com/user/mtn  89.1만\n",
      "https://www.youtube.com/channel/UCYAvG7-sBBztgDtwKil1RTQ  44.5만\n",
      "https://www.youtube.com/c/brucemoon  2.88만\n",
      "https://www.youtube.com/channel/UCXujtwzt8nlEuVhqQlcJ-Ng  10.6만\n",
      "https://www.youtube.com/user/simplyjayra  356\n",
      "https://www.youtube.com/channel/UCTd7ZoshO-mnXBk0_4gbRxw  1.96천\n",
      "https://www.youtube.com/c/%EC%A3%BC%EC%8B%9D%EC%B2%9C%EB%A6%AC%EC%95%88%EB%8F%84%EA%B9%A8%EB%B9%84%EB%B0%B8%EB%A5%98  1.79천\n",
      "https://www.youtube.com/c/%EB%8B%A4%EC%9D%B4%EC%95%84%EB%AA%AC%EB%93%9CTV  975\n",
      "https://www.youtube.com/channel/UC__x8cY1fWFz3mCSwGQcuiQ  325\n",
      "https://www.youtube.com/c/%EC%98%A4%EB%AA%A9%EA%B5%90%EC%A0%84%EC%9E%90%EC%83%81%EA%B0%80R  5.99만\n",
      "https://www.youtube.com/channel/UC7I5VTuNKdc5n_easblV3qg  742\n",
      "https://www.youtube.com/channel/UCQ2a9oTOgf1P5y32uiS-whQ  11.1만\n",
      "https://www.youtube.com/c/%EC%A0%95%EC%9A%B0%EC%8C%A4TVDailyTube  2.84천\n",
      "https://www.youtube.com/channel/UCu90S1_4r14uHiYa30X3nsg  2.3천\n",
      "https://www.youtube.com/channel/UCV77qil5hUvWrMGgWaZa5Tw  9.3만\n",
      "https://www.youtube.com/channel/UCy-NrXlV-_3ed0UKnKMbVmQ  32.5만\n",
      "https://www.youtube.com/c/%EC%A3%BC%EB%91%A5%EC%9D%B4%EB%B0%A9%EC%86%A1  85.9만\n",
      "https://www.youtube.com/c/%EB%A6%AC%EB%B7%B0%EB%9D%A0  13.3만\n",
      "https://www.youtube.com/c/mylynntv  107만\n",
      "https://www.youtube.com/c/%EB%B0%A9%EA%B5%AC%EC%84%9D%EB%A6%AC%EB%B7%B0%EB%A3%B8  23.3만\n",
      "https://www.youtube.com/channel/UC_erVcoR7dOOAcW4dto_zDQ  72\n",
      "https://www.youtube.com/c/%EC%9D%B4%EC%B1%84%EC%9C%A4YouTube  14.4만\n",
      "https://www.youtube.com/user/briantong  24.7만\n",
      "https://www.youtube.com/c/%EC%A7%A7%EC%A7%80%EC%8B%9D  8.66만\n",
      "https://www.youtube.com/c/%ED%85%8C%ED%81%AC%ED%81%B4%EB%A6%BD  2.47천\n",
      "https://www.youtube.com/c/%EC%B4%88%ED%8A%9C%ED%84%B0  2.33천\n",
      "https://www.youtube.com/c/TechnicalSubir  6.61천\n",
      "https://www.youtube.com/channel/UCx5Wo9-7v-uiUr7ZDzKk9kw  58\n",
      "https://www.youtube.com/channel/UCkhD0N5JmfrsSTL4m9DUrcw  17\n",
      "https://www.youtube.com/channel/UCSmKpwGictx2FI3kUIGFV6A  46.6만\n",
      "https://www.youtube.com/channel/UCyCL5k8P1iUOc1EymhhMW1A  166만\n",
      "https://www.youtube.com/channel/UCwHTeh9tjyFNfLRQKn5F_uw  6.52천\n",
      "https://www.youtube.com/c/%EB%A6%AC%EB%B7%B0%EB%A8%B8%EC%9E%A5  4.29천\n",
      "https://www.youtube.com/c/TechNote%ED%85%8C%ED%81%AC%EB%85%B8%ED%8A%B8  3.09천\n",
      "https://www.youtube.com/channel/UCt_UFhBBHk5rQPQv12Y7RHg  60만\n",
      "https://www.youtube.com/channel/UCPC8Z337_JwfjlfC9tSlvcQ  2.34천\n",
      "https://www.youtube.com/channel/UCe00Auj7P4rdjMWSYMojqGA  21.6만\n",
      "https://www.youtube.com/channel/UC4dJY-aiAiQiAEc8DMj2DZA  1.33천\n",
      "https://www.youtube.com/c/ItMang  1.53천\n",
      "https://www.youtube.com/c/ZONEofTECH  132만\n",
      "https://www.youtube.com/c/Aronhwang  3.97만\n",
      "https://www.youtube.com/channel/UCuGMcC9Ocryc2IjbS8xe4WQ  3.82천\n",
      "https://www.youtube.com/channel/UCVyCwzPOCOq1JsI919w9AGw  9.84천\n",
      "https://www.youtube.com/c/%EC%9E%87%ED%85%9CITtem  2.23만\n",
      "https://www.youtube.com/channel/UCV_ofaMOHEyxo0P6W5wdoyw  3.42천\n",
      "https://www.youtube.com/c/%EC%B9%B4%EC%9D%BC%ED%8C%8C%EC%9D%BCKFile  2.35천\n",
      "https://www.youtube.com/c/MBCNEWS11  247만\n",
      "https://www.youtube.com/channel/UCYtXIByqx4zRUh3tcAN_6dg  2천\n",
      "https://www.youtube.com/c/MacGyu%EB%A7%A5%EA%B7%9C  1.53천\n",
      "https://www.youtube.com/channel/UCWKWjdHGn4Arv9PUpU-3few  320\n",
      "https://www.youtube.com/c/MeetSeanpossible 분들께 현\n",
      "https://www.youtube.com/c/%EC%9D%B4%EA%B1%B0%EC%82%AC294  5.38천\n",
      "https://www.youtube.com/c/%E8%98%8B%E6%9E%9C%E7%88%B9  27.7만\n",
      "https://www.youtube.com/c/MattDoesTech  43.4만\n",
      "https://www.youtube.com/channel/UCUFaNbUlkqxXE-reQfnbJPQ  2.37만\n",
      "https://www.youtube.com/c/unboxtherapy  1820만\n",
      "https://www.youtube.com/c/SimplyPops  19.6만\n",
      "https://www.youtube.com/c/AppleINIndia  10.3만\n",
      "https://www.youtube.com/c/zollotech  115만\n",
      "https://www.youtube.com/c/TechETN  52.9만\n",
      "https://www.youtube.com/c/FUZZCHANNELMY  35.2만\n",
      "https://www.youtube.com/c/HOTSHOTchannel  21.1만\n",
      "https://www.youtube.com/channel/UCwM5PCPfVC2lcT95RQZEIxw  2.9천\n",
      "https://www.youtube.com/c/ZoneOFmobiles  1.09만\n",
      "https://www.youtube.com/channel/UCilo7PrAr98E2yhUlh5AmEA  5.96만\n",
      "https://www.youtube.com/c/tttechnology  51.8만\n",
      "https://www.youtube.com/c/Pocketnow  181만\n",
      "https://www.youtube.com/c/GadgetsLife  12만\n"
     ]
    },
    {
     "name": "stdout",
     "output_type": "stream",
     "text": [
      "https://www.youtube.com/c/Dave2D  357만\n",
      "https://www.youtube.com/c/MaxTechOfficial  100만\n",
      "https://www.youtube.com/c/XEETECHCARE  167만\n",
      "https://www.youtube.com/c/jojol67  233만\n",
      "https://www.youtube.com/c/TotallyStudios  60.1만\n",
      "https://www.youtube.com/c/BrandonButch  90.4만\n",
      "https://www.youtube.com/c/YourAppleTuber  15만\n",
      "https://www.youtube.com/c/AppleAdvice  2.59만\n",
      "https://www.youtube.com/channel/UCSQEQ7QojWLZ6EQJSpJ02tQ  1.35만\n",
      "https://www.youtube.com/c/9to5mac  75.6만\n",
      "https://www.youtube.com/c/neshudo  103만\n",
      "https://www.youtube.com/c/AppleExplained  128만\n",
      "https://www.youtube.com/c/EverythingApplePro  827만\n",
      "https://www.youtube.com/c/DemonsTech  6.34천\n",
      "https://www.youtube.com/c/TechReviewer1  3.28만\n",
      "https://www.youtube.com/c/MiniStudiosFK  27만\n",
      "https://www.youtube.com/c/hollywoodfrodo  2.87만\n",
      "https://www.youtube.com/c/GregsGadgets  23.4만\n",
      "https://www.youtube.com/c/TheAppleCircle  25.6만\n",
      "https://www.youtube.com/c/TechnicalGuruji  2230만\n",
      "https://www.youtube.com/c/GigaContent1  5.58천\n",
      "https://www.youtube.com/c/ElPanitaJosue  1.06만\n",
      "https://www.youtube.com/c/NickAckermanchannel  73.2만\n",
      "https://www.youtube.com/c/iOSbetanews  24만\n",
      "https://www.youtube.com/channel/UCKEcBmd1FGWgdARJW5j6p2w  768\n",
      "https://www.youtube.com/c/TechTalkTV  74.9만\n"
     ]
    }
   ],
   "source": [
    "dic = {}\n",
    "\n",
    "for url in youtuber_df['channel_url']:\n",
    "    if '...' in url:\n",
    "        continue\n",
    "    \n",
    "    data = crawl_subscriber(url)\n",
    "    print(url, data)\n",
    "    dic[url] = data"
   ]
  },
  {
   "cell_type": "code",
   "execution_count": 478,
   "metadata": {},
   "outputs": [],
   "source": [
    "#join하기 위한 df 선언\n",
    "join = pd.DataFrame(dic.items(),columns= ['channel_url','subscribers'])\n",
    "\n",
    "#subscribers 칼럼 전처리\n",
    "join['subscribers'] = join['subscribers'].apply(lambda x: custom_sub(x))"
   ]
  },
  {
   "cell_type": "code",
   "execution_count": 481,
   "metadata": {},
   "outputs": [
    {
     "data": {
      "text/plain": [
       "164"
      ]
     },
     "execution_count": 481,
     "metadata": {},
     "output_type": "execute_result"
    }
   ],
   "source": [
    "#youtuber_df에 subscribers 칼럼을 추가\n",
    "new = pd.merge(youtuber_df,join,on = 'channel_url')\n",
    "\n",
    "#youtuber_df 총 row 확인\n",
    "len(new)"
   ]
  },
  {
   "cell_type": "code",
   "execution_count": null,
   "metadata": {},
   "outputs": [],
   "source": [
    "#최종 youtuber_df와 video_info_df 출력\n",
    "new.to_csv(\"[complete]youtuber_df.csv\")\n",
    "video_info_df.to_csv(\"[complete]video_info_df.csv\")"
   ]
  },
  {
   "cell_type": "markdown",
   "metadata": {},
   "source": [
    "# Table에 넣기 위한 DF 전처리"
   ]
  },
  {
   "cell_type": "code",
   "execution_count": null,
   "metadata": {},
   "outputs": [],
   "source": [
    "video = pd.read_csv('[complete]video_info_df.csv',index_col = 0)\n",
    "youtuber = pd.read_csv('[complete]youtuber_df.csv',index_col = 0)"
   ]
  },
  {
   "cell_type": "code",
   "execution_count": null,
   "metadata": {},
   "outputs": [],
   "source": [
    "data = pd.merge(video, youtuber,on = 'youtuber_name')\n",
    "\n",
    "data = data.rename(columns = {'id':'youtuber_id'})\n",
    "data =data.drop('subscribers', axis=1)\n",
    "data =data.drop('channel_url', axis=1)\n",
    "data =data.drop('youtuber_name', axis=1)\n",
    "\n",
    "data.columns\n",
    "\n",
    "youtuber = youtuber[['id', 'youtuber_name', 'subscribers','channel_url']]\n",
    "data = data[['title', 'view', 'contents', 'create_date', 'search_query', 'video_url','youtuber_id']]"
   ]
  },
  {
   "cell_type": "code",
   "execution_count": null,
   "metadata": {},
   "outputs": [],
   "source": [
    "#txt가 들어있는 칼럼 전체에 특수 문자를 제거한다. \n",
    "youtuber['youtuber_name']= youtuber['youtuber_name'].str.replace(pat=r'[^\\w]',repl=r' ',regex=True)\n",
    "data['title'] = data['title'].str.replace(pat=r'[^\\w]',repl=r' ',regex=True)\n",
    "data['contents'] = data['contents'].str.replace(pat=r'[^\\w]',repl=r' ',regex=True)"
   ]
  },
  {
   "cell_type": "code",
   "execution_count": null,
   "metadata": {},
   "outputs": [],
   "source": [
    "#최종 df 출력\n",
    "youtuber.to_csv('[final]youtuber_df.csv')\n",
    "data.to_csv('[final]video_info_df.csv')"
   ]
  }
 ],
 "metadata": {
  "kernelspec": {
   "display_name": "Python 3",
   "language": "python",
   "name": "python3"
  },
  "language_info": {
   "codemirror_mode": {
    "name": "ipython",
    "version": 3
   },
   "file_extension": ".py",
   "mimetype": "text/x-python",
   "name": "python",
   "nbconvert_exporter": "python",
   "pygments_lexer": "ipython3",
   "version": "3.8.3"
  },
  "toc": {
   "base_numbering": 1,
   "nav_menu": {},
   "number_sections": true,
   "sideBar": true,
   "skip_h1_title": false,
   "title_cell": "Table of Contents",
   "title_sidebar": "Contents",
   "toc_cell": false,
   "toc_position": {},
   "toc_section_display": true,
   "toc_window_display": false
  },
  "vscode": {
   "interpreter": {
    "hash": "31f2aee4e71d21fbe5cf8b01ff0e069b9275f58929596ceb00d14d90e3e16cd6"
   }
  }
 },
 "nbformat": 4,
 "nbformat_minor": 2
}
